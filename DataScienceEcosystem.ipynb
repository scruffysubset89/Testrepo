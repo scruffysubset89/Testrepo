{
 "cells": [
  {
   "cell_type": "markdown",
   "id": "4a62b860-e6fb-4530-84ec-11e25c2ac610",
   "metadata": {},
   "source": [
    "##Data Science Tools and Ecosystem\n"
   ]
  },
  {
   "cell_type": "markdown",
   "id": "4e9312a8-c811-43c6-9b99-1f8ee799995f",
   "metadata": {},
   "source": [
    "### \"En este cuaderno, se resumen las herramientas y ecosistemas de ciencia de datos\"\n"
   ]
  },
  {
   "cell_type": "markdown",
   "id": "8b31c827-7069-4d1a-a62a-a886467c2fff",
   "metadata": {},
   "source": [
    "#### Algunos de los lenguajes populares que utilizan los científicos de datos son\n",
    " ##### 1 phyton \n",
    " ###### 2 R\n",
    " ###### 3 SQL"
   ]
  },
  {
   "cell_type": "markdown",
   "id": "d44ca048-0759-486c-9443-ebd9d2a16073",
   "metadata": {},
   "source": [
    "# HERRAMIENTAS PARA LA CIENCIA DE DATOS "
   ]
  },
  {
   "cell_type": "markdown",
   "id": "422f7f45-8af9-4902-9027-7aaa4f292e87",
   "metadata": {},
   "source": [
    "## execute as markdown cell \n",
    "\n",
    "|Herramientas de codigo abierto|\n",
    "| -------------| ------ |\n",
    "| phyton |\n",
    "| javascript|\n",
    "|PHP|"
   ]
  },
  {
   "cell_type": "markdown",
   "id": "ef5aeaa6-0420-4853-9e82-26c19b8e87ac",
   "metadata": {},
   "source": [
    "# Herramientas \n",
    "- phyton\n",
    "- javascript\n",
    "- PHP"
   ]
  },
  {
   "cell_type": "markdown",
   "id": "f4ed2b88-d7e5-461a-aa53-b5b636a4eff0",
   "metadata": {},
   "source": [
    "### H3 A continuación, se presentan algunos ejemplos de evaluación de expresiones aritméticas en Python"
   ]
  },
  {
   "cell_type": "code",
   "execution_count": 1,
   "id": "f067136f-3753-441e-a471-9f55d332c55d",
   "metadata": {},
   "outputs": [
    {
     "name": "stdout",
     "output_type": "stream",
     "text": [
      "17\n"
     ]
    }
   ],
   "source": [
    "print ((3*4)+5)"
   ]
  },
  {
   "cell_type": "code",
   "execution_count": null,
   "id": "05378ca7-37ef-4e0b-885f-5f35dfc9ab73",
   "metadata": {},
   "outputs": [],
   "source": [
    "dato= int(input(\"Ingrese los minutos: \"))\n",
    "\n",
    "hora = dato//60  # el operador // obtiene la parte entera de la división\n",
    "minutos = dato % 60  # el operador % nos da el resto de la división (los minutos)\n",
    "\n",
    "print('Hora: ', hora, ' minutos: ', minutos)\n",
    "\n"
   ]
  },
  {
   "cell_type": "markdown",
   "id": "89e12ca4-6318-4baa-9ecd-df1b945e4995",
   "metadata": {},
   "source": [
    "## OBJETIVOS \n",
    " - phyton\n",
    " - R\n",
    " - SQL\n",
    " - java\n",
    " - julia "
   ]
  },
  {
   "cell_type": "markdown",
   "id": "f7a63f6c-4891-4ec1-85d3-a21ff80f2a5e",
   "metadata": {},
   "source": [
    "## AUTOR \n",
    "Oscar Fernando Rojas Alarcon "
   ]
  },
  {
   "cell_type": "code",
   "execution_count": null,
   "id": "499a549d-4cb6-471e-adbc-dd30e76ba5cd",
   "metadata": {},
   "outputs": [],
   "source": []
  }
 ],
 "metadata": {
  "kernelspec": {
   "display_name": "Python 3 (ipykernel)",
   "language": "python",
   "name": "python3"
  },
  "language_info": {
   "codemirror_mode": {
    "name": "ipython",
    "version": 3
   },
   "file_extension": ".py",
   "mimetype": "text/x-python",
   "name": "python",
   "nbconvert_exporter": "python",
   "pygments_lexer": "ipython3",
   "version": "3.12.8"
  }
 },
 "nbformat": 4,
 "nbformat_minor": 5
}
